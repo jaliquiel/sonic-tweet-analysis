{
 "cells": [
  {
   "cell_type": "markdown",
   "metadata": {},
   "source": [
    "# HW1 : Data Science in Twitter Data"
   ]
  },
  {
   "cell_type": "markdown",
   "metadata": {},
   "source": [
    "**Required Readings:** \n",
    "* Chapter 1 and Chapter 9 of the book [Mining the Social Web](https://www.safaribooksonline.com/library/view/mining-the-social/9781491973547/?orpq) \n",
    "* The codes for Chapters 1 and 9 are in [here](https://github.com/mikhailklassen/Mining-the-Social-Web-3rd-Edition/tree/master/notebooks).\n",
    "\n",
    "** NOTE **\n",
    "* Please don't forget to save the notebook frequently when working in Jupyter Notebook, otherwise the changes you made can be lost.\n",
    "\n",
    "*----------------------"
   ]
  },
  {
   "cell_type": "markdown",
   "metadata": {},
   "source": [
    "## Data Collection: Download Twitter Data using API"
   ]
  },
  {
   "cell_type": "markdown",
   "metadata": {},
   "source": [
    "* As the first step of Data Science process, let's collect some twitter data. Choose a keyword and search tweets containing the keyword by using Twitter search API, and then download the searched tweets (including the meta data that the Search API returns) in a file. It is recommended that the number of searched tweets should be at least 300.\n",
    "* Store the tweets you downloaded into a local file (txt file or json file) "
   ]
  },
  {
   "cell_type": "code",
   "execution_count": 1,
   "metadata": {},
   "outputs": [],
   "source": [
    "# What keyword did you choose?:  <sonic>"
   ]
  },
  {
   "cell_type": "code",
   "execution_count": 109,
   "metadata": {},
   "outputs": [],
   "source": [
    "import io, json\n",
    "from twitter import *\n",
    "# from prettytable import PrettyTable\n",
    "import prettytable\n",
    "from textwrap import fill\n",
    "from collections import Counter"
   ]
  },
  {
   "cell_type": "code",
   "execution_count": 2,
   "metadata": {},
   "outputs": [
    {
     "name": "stdout",
     "output_type": "stream",
     "text": [
      "<twitter.api.Twitter object at 0x10b53d3a0>\n"
     ]
    }
   ],
   "source": [
    "CONSUMER_KEY = 'tVWZWJfKFv2s4qdJIOwjPBIwk'\n",
    "CONSUMER_SECRET ='17B4xPaZJ5NNHwfXmnRAuVvmYkb8JnvfEXhXKGI3GuTWZ2tiTO'\n",
    "OAUTH_TOKEN = '1190012319213867008-O8vhqrklw1Z1kTcchMa2t5X9Qhscch'\n",
    "OAUTH_TOKEN_SECRET = 'nLyHDpan9zyCV5lTit4XKppm44QWUeW87jsHrQnl3om49'\n",
    "\n",
    "t = Twitter(auth=OAuth(OAUTH_TOKEN, OAUTH_TOKEN_SECRET, CONSUMER_KEY, CONSUMER_SECRET))\n",
    "print(t)\n"
   ]
  },
  {
   "cell_type": "code",
   "execution_count": 32,
   "metadata": {},
   "outputs": [],
   "source": [
    "search_results = t.search.tweets(q=\"sonic\", count= '100')\n"
   ]
  },
  {
   "cell_type": "code",
   "execution_count": 53,
   "metadata": {},
   "outputs": [
    {
     "data": {
      "text/plain": [
       "dict_keys(['statuses', 'search_metadata'])"
      ]
     },
     "execution_count": 53,
     "metadata": {},
     "output_type": "execute_result"
    }
   ],
   "source": [
    "search_results.keys()"
   ]
  },
  {
   "cell_type": "code",
   "execution_count": 36,
   "metadata": {},
   "outputs": [
    {
     "data": {
      "text/plain": [
       "dict_keys(['created_at', 'id', 'id_str', 'text', 'truncated', 'entities', 'metadata', 'source', 'in_reply_to_status_id', 'in_reply_to_status_id_str', 'in_reply_to_user_id', 'in_reply_to_user_id_str', 'in_reply_to_screen_name', 'user', 'geo', 'coordinates', 'place', 'contributors', 'is_quote_status', 'retweet_count', 'favorite_count', 'favorited', 'retweeted', 'lang'])"
      ]
     },
     "execution_count": 36,
     "metadata": {},
     "output_type": "execute_result"
    }
   ],
   "source": [
    "search_results['statuses'][0].keys()"
   ]
  },
  {
   "cell_type": "code",
   "execution_count": 99,
   "metadata": {},
   "outputs": [
    {
     "name": "stdout",
     "output_type": "stream",
     "text": [
      "[{'text': 'SonicMovie', 'indices': [16, 27]}]\n"
     ]
    },
    {
     "data": {
      "text/plain": [
       "[{'screen_name': 'isa_yfn415',\n",
       "  'name': '*🍩이사Isa🌭*',\n",
       "  'id': 782560333596495872,\n",
       "  'id_str': '782560333596495872',\n",
       "  'indices': [3, 14]}]"
      ]
     },
     "execution_count": 99,
     "metadata": {},
     "output_type": "execute_result"
    }
   ],
   "source": [
    "index = 2\n",
    "print(search_results['statuses'][index]['entities']['hashtags'])\n",
    "search_results['statuses'][index]['entities']['user_mentions']"
   ]
  },
  {
   "cell_type": "code",
   "execution_count": 56,
   "metadata": {},
   "outputs": [],
   "source": [
    "# heavily inspired from Chapter 9, Page 362 from Mining the Social Web\n",
    "# source: https://stackabuse.com/reading-and-writing-json-to-a-file-in-python/\n",
    "def save_json(data):\n",
    "    with io.open('sonic-data.json', 'w', encoding='utf-8') as f:\n",
    "        json.dump(data,f)\n",
    "    \n",
    "def load_json():\n",
    "    with io.open('sonic-data.json', encoding='utf-8') as f:\n",
    "        return json.load(f)"
   ]
  },
  {
   "cell_type": "code",
   "execution_count": 57,
   "metadata": {},
   "outputs": [
    {
     "name": "stdout",
     "output_type": "stream",
     "text": [
      "dict_keys(['statuses', 'search_metadata'])\n"
     ]
    }
   ],
   "source": [
    "save_json(search_results)\n",
    "a = load_json()\n",
    "print(a.keys())"
   ]
  },
  {
   "cell_type": "markdown",
   "metadata": {},
   "source": [
    "### Report  statistics about the tweets you collected "
   ]
  },
  {
   "cell_type": "code",
   "execution_count": null,
   "metadata": {
    "collapsed": true
   },
   "outputs": [],
   "source": [
    "# The total number of tweets collected:  < INSERT THE NUMBER HERE>\n",
    "\n",
    "'''\n",
    "Links:\n",
    "https://developer.twitter.com/en/docs/tweets/search/api-reference/get-search-tweets\n",
    "https://stackoverflow.com/questions/23590688/how-to-get-more-than-100-tweets-from-the-twitter-search-or-streaming-api-using-t\n",
    "https://twitter.com/search?q=sonic&src=typed_query\n",
    "\n",
    "todo:\n",
    "- increase tweet amount request count\n",
    "- remove duplicated or RT when doing most popular tweets\n",
    "- \n",
    "'''\n"
   ]
  },
  {
   "cell_type": "markdown",
   "metadata": {},
   "source": [
    "# Data Exploration: Exploring the Tweets and Tweet Entities\n",
    "\n",
    "**(1) Word Count:** \n",
    "* Load the tweets you collected in the local file (txt or json)\n",
    "* compute the frequencies of the words being used in these tweets. \n",
    "* Plot a table of the top 30 most-frequent words with their counts"
   ]
  },
  {
   "cell_type": "code",
   "execution_count": 74,
   "metadata": {},
   "outputs": [
    {
     "name": "stdout",
     "output_type": "stream",
     "text": [
      "+--------+-------+\n",
      "|  word  | count |\n",
      "+--------+-------+\n",
      "|   RT   |   58  |\n",
      "| Sonic  |   37  |\n",
      "|  the   |   37  |\n",
      "|   I    |   33  |\n",
      "|   to   |   24  |\n",
      "|   a    |   23  |\n",
      "| sonic  |   22  |\n",
      "|  and   |   22  |\n",
      "|   of   |   17  |\n",
      "|   in   |   13  |\n",
      "|   so   |   12  |\n",
      "|  for   |   12  |\n",
      "|   is   |   12  |\n",
      "|   my   |   11  |\n",
      "|  was   |   10  |\n",
      "| April  |   10  |\n",
      "| SONIC  |   10  |\n",
      "|  The   |   10  |\n",
      "|  with  |   9   |\n",
      "|   on   |   9   |\n",
      "| Happy  |   9   |\n",
      "| movie  |   9   |\n",
      "|   it   |   8   |\n",
      "|  not   |   7   |\n",
      "|   X!   |   6   |\n",
      "|   7,   |   6   |\n",
      "| SUMMER |   6   |\n",
      "|  2019  |   6   |\n",
      "| Replay |   6   |\n",
      "|  you   |   6   |\n",
      "+--------+-------+\n"
     ]
    }
   ],
   "source": [
    "# load json\n",
    "results = load_json()\n",
    "# dictionary that keeps track of frequency of words\n",
    "words_collection = {}\n",
    "# get number of tweets\n",
    "number_tweets = len(results['statuses'])\n",
    "\n",
    "# populate dictionary\n",
    "for tweet_index in range(number_tweets):\n",
    "    for word in results['statuses'][tweet_index]['text'].split():\n",
    "        # if word not in dict then add, else increase count\n",
    "        if word in words_collection.keys():\n",
    "            words_collection[word] += 1\n",
    "        else:\n",
    "            words_collection[word] = 1\n",
    "\n",
    "# sort dictionary based on frequency\n",
    "sorted_results = {k: v for k, v in sorted(words_collection.items(), key=lambda item: item[1], reverse=True)}\n",
    "\n",
    "# create pretty table\n",
    "table = PrettyTable(field_names=['word','count'])\n",
    "for index, word_count_pair in enumerate(sorted_results.items()):\n",
    "    if index == 30:\n",
    "        break\n",
    "    table.add_row(word_count_pair)\n",
    "\n",
    "print(table)\n"
   ]
  },
  {
   "cell_type": "markdown",
   "metadata": {},
   "source": [
    "** (2) Find the most popular tweets in your collection of tweets**\n",
    "\n",
    "Please plot a table of the top 10 most-retweeted tweets in your collection, i.e., the tweets with the largest number of retweet counts.\n"
   ]
  },
  {
   "cell_type": "code",
   "execution_count": 117,
   "metadata": {
    "scrolled": true
   },
   "outputs": [
    {
     "name": "stdout",
     "output_type": "stream",
     "text": [
      "[1] RT @nakeyjakey: what if linguini from ratatouille was having sex and the girl pulled his hair and he started cooking spaghetti\n",
      "[2] RT @IndigoBeatss: Ok so heres my reference thing\n",
      "\n",
      "Apparently ive been drawing teen tails this whole time cuz i keep drawing him with those…\n",
      "[3] RT @RandomPocket12: I never laughed so hard with Sonic X until this, why couldn't the whole show be like this?! https://t.co/00yr5g36G6\n",
      "[4] RT @isa_yfn415: #SonicMovie\n",
      "\n",
      "I wanted to draw Sonic and Carl's first meeting!\n",
      "I thought Sonic was probably happy when Carl noticed him http…\n",
      "[5] RT @whoisnoahagain: The casting choice for eggman in the sonic movie was phenomenal https://t.co/bvGRuwlUp5\n",
      "[6] RT @whoisnoahagain: The casting choice for eggman in the sonic movie was phenomenal https://t.co/bvGRuwlUp5\n",
      "[7] RT @whoisnoahagain: The casting choice for eggman in the sonic movie was phenomenal https://t.co/bvGRuwlUp5\n",
      "[8] RT @tmsanime: Happy Birthday Sonic X! Here's an exclusive clip featuring never-before-seen materials we created to commemorate the blue hed…\n",
      "[9] RT @tmsanime: Happy Birthday Sonic X! Here's an exclusive clip featuring never-before-seen materials we created to commemorate the blue hed…\n",
      "[10] RT @tmsanime: Happy Birthday Sonic X! Here's an exclusive clip featuring never-before-seen materials we created to commemorate the blue hed…\n",
      "+------------------------------------------+---------------+\n",
      "|                   text                   | retweet count |\n",
      "+------------------------------------------+---------------+\n",
      "|  RT @nakeyjakey: what if linguini from   |     50432     |\n",
      "| ratatouille was having sex and the girl  |               |\n",
      "|  pulled his hair and he started cooking  |               |\n",
      "|                spaghetti                 |               |\n",
      "+------------------------------------------+---------------+\n",
      "|     RT @IndigoBeatss: Ok so heres my     |      5339     |\n",
      "|   reference thing  Apparently ive been   |               |\n",
      "| drawing teen tails this whole time cuz i |               |\n",
      "|       keep drawing him with those…       |               |\n",
      "+------------------------------------------+---------------+\n",
      "|  RT @RandomPocket12: I never laughed so  |      2754     |\n",
      "|    hard with Sonic X until this, why     |               |\n",
      "|  couldn't the whole show be like this?!  |               |\n",
      "|         https://t.co/00yr5g36G6          |               |\n",
      "+------------------------------------------+---------------+\n",
      "| RT @isa_yfn415: #SonicMovie  I wanted to |      1468     |\n",
      "|  draw Sonic and Carl's first meeting! I  |               |\n",
      "|  thought Sonic was probably happy when   |               |\n",
      "|          Carl noticed him http…          |               |\n",
      "+------------------------------------------+---------------+\n",
      "|  RT @whoisnoahagain: The casting choice  |      1130     |\n",
      "|    for eggman in the sonic movie was     |               |\n",
      "|    phenomenal https://t.co/bvGRuwlUp5    |               |\n",
      "+------------------------------------------+---------------+\n",
      "|  RT @whoisnoahagain: The casting choice  |      1130     |\n",
      "|    for eggman in the sonic movie was     |               |\n",
      "|    phenomenal https://t.co/bvGRuwlUp5    |               |\n",
      "+------------------------------------------+---------------+\n",
      "|  RT @whoisnoahagain: The casting choice  |      1130     |\n",
      "|    for eggman in the sonic movie was     |               |\n",
      "|    phenomenal https://t.co/bvGRuwlUp5    |               |\n",
      "+------------------------------------------+---------------+\n",
      "|  RT @tmsanime: Happy Birthday Sonic X!   |      949      |\n",
      "|    Here's an exclusive clip featuring    |               |\n",
      "|  never-before-seen materials we created  |               |\n",
      "|       to commemorate the blue hed…       |               |\n",
      "+------------------------------------------+---------------+\n",
      "|  RT @tmsanime: Happy Birthday Sonic X!   |      949      |\n",
      "|    Here's an exclusive clip featuring    |               |\n",
      "|  never-before-seen materials we created  |               |\n",
      "|       to commemorate the blue hed…       |               |\n",
      "+------------------------------------------+---------------+\n",
      "|  RT @tmsanime: Happy Birthday Sonic X!   |      949      |\n",
      "|    Here's an exclusive clip featuring    |               |\n",
      "|  never-before-seen materials we created  |               |\n",
      "|       to commemorate the blue hed…       |               |\n",
      "+------------------------------------------+---------------+\n"
     ]
    }
   ],
   "source": [
    "# list that keeps track of popular tweets\n",
    "popular_tweets = []\n",
    "# get number of tweets\n",
    "number_tweets = len(results['statuses'])\n",
    "\n",
    "# populate list\n",
    "for tweet_index in range(number_tweets):\n",
    "    text = results['statuses'][tweet_index]['text']\n",
    "    retweet_count = results['statuses'][tweet_index]['retweet_count']\n",
    "    popular_tweets.append((text, retweet_count))\n",
    "\n",
    "# sort list based on retweet frequency\n",
    "sorted_results = sorted(popular_tweets, key=lambda item: item[1], reverse=True)\n",
    "\n",
    "# create pretty table\n",
    "table = PrettyTable(field_names=['text','retweet count'])\n",
    "for index, tweet_count_pair in enumerate(sorted_results):\n",
    "    if index == 10:\n",
    "        break\n",
    "    table.add_row((fill(tweet_count_pair[0], width = 40), tweet_count_pair[1]))\n",
    "    print(f\"[{index + 1}] \" + tweet_count_pair[0])\n",
    "\n",
    "table.hrules = prettytable.ALL\n",
    "print(table)\n"
   ]
  },
  {
   "cell_type": "markdown",
   "metadata": {},
   "source": [
    "**(3) Find the most popular Tweet Entities in your collection of tweets**\n",
    "\n",
    "Please plot the top 10 most-frequent hashtags and top 10 most-mentioned users in your collection of tweets."
   ]
  },
  {
   "cell_type": "code",
   "execution_count": 101,
   "metadata": {},
   "outputs": [
    {
     "name": "stdout",
     "output_type": "stream",
     "text": [
      "+--------+-------+\n",
      "|  word  | count |\n",
      "+--------+-------+\n",
      "|   RT   |   58  |\n",
      "| Sonic  |   37  |\n",
      "|  the   |   37  |\n",
      "|   I    |   33  |\n",
      "|   to   |   24  |\n",
      "|   a    |   23  |\n",
      "| sonic  |   22  |\n",
      "|  and   |   22  |\n",
      "|   of   |   17  |\n",
      "|   in   |   13  |\n",
      "|   so   |   12  |\n",
      "|  for   |   12  |\n",
      "|   is   |   12  |\n",
      "|   my   |   11  |\n",
      "|  was   |   10  |\n",
      "| April  |   10  |\n",
      "| SONIC  |   10  |\n",
      "|  The   |   10  |\n",
      "|  with  |   9   |\n",
      "|   on   |   9   |\n",
      "| Happy  |   9   |\n",
      "| movie  |   9   |\n",
      "|   it   |   8   |\n",
      "|  not   |   7   |\n",
      "|   X!   |   6   |\n",
      "|   7,   |   6   |\n",
      "| SUMMER |   6   |\n",
      "|  2019  |   6   |\n",
      "| Replay |   6   |\n",
      "|  you   |   6   |\n",
      "+--------+-------+\n"
     ]
    }
   ],
   "source": [
    "# dictionary that keeps track of frequency of words\n",
    "words_collection = {}\n",
    "# get number of tweets\n",
    "number_tweets = len(results['statuses'])\n",
    "\n",
    "# populate dictionary\n",
    "for tweet_index in range(number_tweets):\n",
    "    for word in results['statuses'][tweet_index]['text'].split():\n",
    "        # if word not in dict then add, else increase count\n",
    "        if word in words_collection.keys():\n",
    "            words_collection[word] += 1\n",
    "        else:\n",
    "            words_collection[word] = 1\n",
    "\n",
    "# sort dictionary based on frequency\n",
    "sorted_results = {k: v for k, v in sorted(words_collection.items(), key=lambda item: item[1], reverse=True)}\n",
    "\n",
    "# create pretty table\n",
    "table = PrettyTable(field_names=['word','count'])\n",
    "for index, word_count_pair in enumerate(sorted_results.items()):\n",
    "    if index == 30:\n",
    "        break\n",
    "    table.add_row(word_count_pair)\n",
    "\n",
    "print(table)\n",
    "\n",
    "\n",
    "\n",
    "\n",
    "\n"
   ]
  },
  {
   "cell_type": "markdown",
   "metadata": {},
   "source": [
    "Plot a histogram of the number of user mentions in the list using the following bins."
   ]
  },
  {
   "cell_type": "code",
   "execution_count": null,
   "metadata": {
    "collapsed": true
   },
   "outputs": [],
   "source": [
    "bins=[0, 10, 20, 30, 40, 50, 100]\n",
    "\n",
    "# Your code starts here\n",
    "#   Please add comments or text cells in between to explain the general idea of each block of the code.\n",
    "#   Please feel free to add more cells below this cell if necessary\n",
    "\n",
    "\n",
    "\n"
   ]
  },
  {
   "cell_type": "markdown",
   "metadata": {},
   "source": [
    "\n",
    " ** (optional task for fun) Getting \"All\" friends (followees) and \"All\" followers of a popular user in the tweets**"
   ]
  },
  {
   "cell_type": "markdown",
   "metadata": {},
   "source": [
    "* choose a popular twitter user who has many followers in your collection of tweets.\n",
    "* Get the list of all friends and all followers of the twitter user.\n",
    "* Plot 20 out of the followers, plot their ID numbers and screen names in a table.\n",
    "* Plot 20 out of the friends (if the user has more than 20 friends), plot their ID numbers and screen names in a table."
   ]
  },
  {
   "cell_type": "code",
   "execution_count": 35,
   "metadata": {},
   "outputs": [],
   "source": [
    "# Your code starts here\n",
    "#   Please add comments or text cells in between to explain the general idea of each block of the code.\n",
    "#   Please feel free to add more cells below this cell if necessary\n",
    "\n",
    "\n",
    "\n",
    "\n",
    "\n"
   ]
  },
  {
   "cell_type": "markdown",
   "metadata": {},
   "source": [
    "*-----------------\n",
    "# Done\n",
    "\n",
    "All set! \n",
    "\n",
    "** What do you need to submit?**\n",
    "\n",
    "* **Notebook File**: Save this Jupyter notebook, and find the notebook file in your folder (for example, \"filename.ipynb\"). This is the file you need to submit. Please make sure all the plotted tables and figures are in the notebook.\n",
    "\n",
    "** How to submit: **\n",
    "\n",
    "        Please submit through Canvas, in the Assignment \"HW1\".\n",
    "        "
   ]
  }
 ],
 "metadata": {
  "anaconda-cloud": {},
  "kernelspec": {
   "display_name": "Python 3",
   "language": "python",
   "name": "python3"
  },
  "language_info": {
   "codemirror_mode": {
    "name": "ipython",
    "version": 3
   },
   "file_extension": ".py",
   "mimetype": "text/x-python",
   "name": "python",
   "nbconvert_exporter": "python",
   "pygments_lexer": "ipython3",
   "version": "3.8.2"
  }
 },
 "nbformat": 4,
 "nbformat_minor": 1
}
