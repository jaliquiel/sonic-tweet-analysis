{
 "cells": [
  {
   "cell_type": "markdown",
   "metadata": {},
   "source": [
    "# HW1 : Data Science in Twitter Data"
   ]
  },
  {
   "cell_type": "markdown",
   "metadata": {},
   "source": [
    "**Required Readings:** \n",
    "* Chapter 1 and Chapter 9 of the book [Mining the Social Web](https://www.safaribooksonline.com/library/view/mining-the-social/9781491973547/?orpq) \n",
    "* The codes for Chapters 1 and 9 are in [here](https://github.com/mikhailklassen/Mining-the-Social-Web-3rd-Edition/tree/master/notebooks).\n",
    "\n",
    "** NOTE **\n",
    "* Please don't forget to save the notebook frequently when working in Jupyter Notebook, otherwise the changes you made can be lost.\n",
    "\n",
    "*----------------------"
   ]
  },
  {
   "cell_type": "markdown",
   "metadata": {},
   "source": [
    "## Data Collection: Download Twitter Data using API"
   ]
  },
  {
   "cell_type": "markdown",
   "metadata": {},
   "source": [
    "* As the first step of Data Science process, let's collect some twitter data. Choose a keyword and search tweets containing the keyword by using Twitter search API, and then download the searched tweets (including the meta data that the Search API returns) in a file. It is recommended that the number of searched tweets should be at least 300.\n",
    "* Store the tweets you downloaded into a local file (txt file or json file) "
   ]
  },
  {
   "cell_type": "code",
   "execution_count": 1,
   "metadata": {},
   "outputs": [],
   "source": [
    "# What keyword did you choose?:  <sonic>"
   ]
  },
  {
   "cell_type": "code",
   "execution_count": 17,
   "metadata": {},
   "outputs": [],
   "source": [
    "import io, json\n",
    "import prettytable\n",
    "from prettytable import PrettyTable\n",
    "import matplotlib.pyplot as plt\n",
    "from twitter import *\n",
    "from textwrap import fill\n",
    "from collections import Counter"
   ]
  },
  {
   "cell_type": "code",
   "execution_count": 6,
   "metadata": {},
   "outputs": [
    {
     "name": "stdout",
     "output_type": "stream",
     "text": [
      "<twitter.api.Twitter object at 0x105755760>\n"
     ]
    }
   ],
   "source": [
    "CONSUMER_KEY = 'tVWZWJfKFv2s4qdJIOwjPBIwk'\n",
    "CONSUMER_SECRET ='17B4xPaZJ5NNHwfXmnRAuVvmYkb8JnvfEXhXKGI3GuTWZ2tiTO'\n",
    "OAUTH_TOKEN = '1190012319213867008-O8vhqrklw1Z1kTcchMa2t5X9Qhscch'\n",
    "OAUTH_TOKEN_SECRET = 'nLyHDpan9zyCV5lTit4XKppm44QWUeW87jsHrQnl3om49'\n",
    "\n",
    "t = Twitter(auth=OAuth(OAUTH_TOKEN, OAUTH_TOKEN_SECRET, CONSUMER_KEY, CONSUMER_SECRET))\n",
    "print(t)"
   ]
  },
  {
   "cell_type": "code",
   "execution_count": 7,
   "metadata": {},
   "outputs": [
    {
     "name": "stdout",
     "output_type": "stream",
     "text": [
      "300\n"
     ]
    }
   ],
   "source": [
    "# query for the first 100 results\n",
    "search_results = t.search.tweets(q=\"sonic\", count= '100')\n",
    "statuses = search_results['statuses']\n",
    "# use metadata to get next 200 results\n",
    "for batch in range(2):\n",
    "#     print(batch)\n",
    "    next_results = search_results['search_metadata']['next_results']\n",
    "        \n",
    "    # Create a dictionary from next_results, with the form:\n",
    "    # ?max_id=1124690280777699327&q=from%3Atwitterdev&count=2&include_entities=1&result_type=mixed\n",
    "    kwargs = dict([ kv.split('=') for kv in next_results[1:].split('&') ])\n",
    "#     print(kwargs)\n",
    "    search_results = t.search.tweets(**kwargs)\n",
    "    statuses += search_results['statuses']\n",
    "\n",
    "print(len(statuses))"
   ]
  },
  {
   "cell_type": "code",
   "execution_count": 8,
   "metadata": {},
   "outputs": [
    {
     "name": "stdout",
     "output_type": "stream",
     "text": [
      "dict_keys(['created_at', 'id', 'id_str', 'text', 'truncated', 'entities', 'metadata', 'source', 'in_reply_to_status_id', 'in_reply_to_status_id_str', 'in_reply_to_user_id', 'in_reply_to_user_id_str', 'in_reply_to_screen_name', 'user', 'geo', 'coordinates', 'place', 'contributors', 'is_quote_status', 'retweet_count', 'favorite_count', 'favorited', 'retweeted', 'lang'])\n"
     ]
    }
   ],
   "source": [
    "print(statuses[0].keys())"
   ]
  },
  {
   "cell_type": "code",
   "execution_count": 9,
   "metadata": {},
   "outputs": [
    {
     "name": "stdout",
     "output_type": "stream",
     "text": [
      "1248000896363003905\n",
      "[{'text': 'sonic', 'indices': [45, 51]}, {'text': 'SonicMovie', 'indices': [52, 63]}, {'text': 'sonicthehedghog', 'indices': [64, 80]}]\n"
     ]
    },
    {
     "data": {
      "text/plain": [
       "[{'screen_name': 'Reve_2Cha',\n",
       "  'name': '🐾레브🐾',\n",
       "  'id': 915556498100514816,\n",
       "  'id_str': '915556498100514816',\n",
       "  'indices': [3, 13]}]"
      ]
     },
     "execution_count": 9,
     "metadata": {},
     "output_type": "execute_result"
    }
   ],
   "source": [
    "index = 2\n",
    "print(statuses[index]['id'])\n",
    "print(statuses[index]['entities']['hashtags'])\n",
    "statuses[index]['entities']['user_mentions']"
   ]
  },
  {
   "cell_type": "code",
   "execution_count": 10,
   "metadata": {},
   "outputs": [],
   "source": [
    "# heavily inspired from Chapter 9, Page 362 from Mining the Social Web\n",
    "# source: https://stackabuse.com/reading-and-writing-json-to-a-file-in-python/\n",
    "def save_json(data):\n",
    "    with io.open('sonic-data.json', 'w', encoding='utf-8') as f:\n",
    "        json.dump(data,f)\n",
    "    \n",
    "def load_json():\n",
    "    with io.open('sonic-data.json', encoding='utf-8') as f:\n",
    "        return json.load(f)"
   ]
  },
  {
   "cell_type": "code",
   "execution_count": 11,
   "metadata": {},
   "outputs": [
    {
     "name": "stdout",
     "output_type": "stream",
     "text": [
      "300\n",
      "dict_keys(['created_at', 'id', 'id_str', 'text', 'truncated', 'entities', 'metadata', 'source', 'in_reply_to_status_id', 'in_reply_to_status_id_str', 'in_reply_to_user_id', 'in_reply_to_user_id_str', 'in_reply_to_screen_name', 'user', 'geo', 'coordinates', 'place', 'contributors', 'is_quote_status', 'retweet_count', 'favorite_count', 'favorited', 'retweeted', 'lang'])\n"
     ]
    }
   ],
   "source": [
    "save_json(statuses)\n",
    "a = load_json()\n",
    "print(len(a))\n",
    "print(a[0].keys())"
   ]
  },
  {
   "cell_type": "markdown",
   "metadata": {},
   "source": [
    "### Report  statistics about the tweets you collected "
   ]
  },
  {
   "cell_type": "code",
   "execution_count": null,
   "metadata": {
    "collapsed": true
   },
   "outputs": [],
   "source": [
    "# The total number of tweets collected:  < 300>\n",
    "\n",
    "'''\n",
    "todo:\n",
    "- remove duplicated or RT when doing most popular tweets\n",
    "'''\n"
   ]
  },
  {
   "cell_type": "markdown",
   "metadata": {},
   "source": [
    "# Data Exploration: Exploring the Tweets and Tweet Entities\n",
    "\n",
    "**(1) Word Count:** \n",
    "* Load the tweets you collected in the local file (txt or json)\n",
    "* compute the frequencies of the words being used in these tweets. \n",
    "* Plot a table of the top 30 most-frequent words with their counts"
   ]
  },
  {
   "cell_type": "code",
   "execution_count": 18,
   "metadata": {},
   "outputs": [
    {
     "name": "stdout",
     "output_type": "stream",
     "text": [
      "+-------------------+-------+\n",
      "|        word       | count |\n",
      "+-------------------+-------+\n",
      "|         RT        |  164  |\n",
      "|       Sonic       |  152  |\n",
      "|        the        |  110  |\n",
      "|         a         |   87  |\n",
      "|        and        |   84  |\n",
      "|         to        |   64  |\n",
      "|       sonic       |   57  |\n",
      "|         I         |   57  |\n",
      "|         in        |   54  |\n",
      "|         of        |   49  |\n",
      "|        for        |   48  |\n",
      "|         is        |   37  |\n",
      "|         as        |   28  |\n",
      "|        was        |   27  |\n",
      "|         i         |   26  |\n",
      "| @dailyretrosonic: |   24  |\n",
      "|        that       |   23  |\n",
      "|        The        |   23  |\n",
      "|    #SonicMovie    |   20  |\n",
      "|         on        |   20  |\n",
      "|        this       |   19  |\n",
      "|         do        |   19  |\n",
      "|        from       |   19  |\n",
      "|         :D        |   18  |\n",
      "|       #sonic      |   18  |\n",
      "|        you        |   18  |\n",
      "|         my        |   18  |\n",
      "|       Cherry      |   17  |\n",
      "|      blossoms     |   17  |\n",
      "|  #sonicthehedghog |   17  |\n",
      "+-------------------+-------+\n"
     ]
    }
   ],
   "source": [
    "# load json\n",
    "results = load_json()\n",
    "# dictionary that keeps track of frequency of words\n",
    "words_collection = {}\n",
    "# get number of tweets\n",
    "number_tweets = len(results)\n",
    "\n",
    "# populate dictionary\n",
    "for tweet_index in range(number_tweets):\n",
    "    for word in results[tweet_index]['text'].split():\n",
    "        # if word not in dict then add, else increase count\n",
    "        if word in words_collection.keys():\n",
    "            words_collection[word] += 1\n",
    "        else:\n",
    "            words_collection[word] = 1\n",
    "\n",
    "# sort dictionary based on frequency\n",
    "sorted_results = {k: v for k, v in sorted(words_collection.items(), key=lambda item: item[1], reverse=True)}\n",
    "\n",
    "# create pretty table\n",
    "table = PrettyTable(field_names=['word','count'])\n",
    "for index, word_count_pair in enumerate(sorted_results.items()):\n",
    "    if index == 30:\n",
    "        break\n",
    "    table.add_row(word_count_pair)\n",
    "\n",
    "print(table)\n"
   ]
  },
  {
   "cell_type": "markdown",
   "metadata": {},
   "source": [
    "** (2) Find the most popular tweets in your collection of tweets**\n",
    "\n",
    "Please plot a table of the top 10 most-retweeted tweets in your collection, i.e., the tweets with the largest number of retweet counts.\n"
   ]
  },
  {
   "cell_type": "code",
   "execution_count": 31,
   "metadata": {
    "scrolled": true
   },
   "outputs": [
    {
     "name": "stdout",
     "output_type": "stream",
     "text": [
      "+------------------------------------------+---------------+\n",
      "|                   text                   | retweet count |\n",
      "+------------------------------------------+---------------+\n",
      "|   RT @shaidersolutt: sonic do caralho    |     11469     |\n",
      "|         https://t.co/agJFgiUy1J          |               |\n",
      "+------------------------------------------+---------------+\n",
      "|  RT @RiseFallNick: This is such a great  |      8220     |\n",
      "| and important scene  DuckTales deserves  |               |\n",
      "|          your attention people.          |               |\n",
      "|         https://t.co/NwgTZxXy4i          |               |\n",
      "+------------------------------------------+---------------+\n",
      "|    RT @maiconkusterkkk: terminando o     |      1806     |\n",
      "|    webnamoro https://t.co/Xo8oO40j9G     |               |\n",
      "+------------------------------------------+---------------+\n",
      "|   RT @SavedYouAClickV: Even though the   |      1761     |\n",
      "|  Mario Lego Set doesn't come out until   |               |\n",
      "|   August, this person left a negative    |               |\n",
      "|      review on the kit due to the…       |               |\n",
      "+------------------------------------------+---------------+\n",
      "|  RT @Spiral_Cris: Thanks to Sonicfan32   |      1120     |\n",
      "| and @sonicparadise, in Jan.2019 I found  |               |\n",
      "|     out about @sonic_hedgehog's band     |               |\n",
      "|      sprites. This impressed me s…       |               |\n",
      "+------------------------------------------+---------------+\n",
      "|   RT @dailyretrosonic: The clay models   |      895      |\n",
      "|   used as a base for Sonic CD's title    |               |\n",
      "|      screen https://t.co/ifVOFoHqqY      |               |\n",
      "+------------------------------------------+---------------+\n",
      "|  RT @dailyretrosonic: The background in  |      892      |\n",
      "|  Angel Island Zone changes when playing  |               |\n",
      "| as Knuckles, as the island is in the sky |               |\n",
      "|          while playing his ca…           |               |\n",
      "+------------------------------------------+---------------+\n",
      "|    RT @LazerPotaters: Imagine getting    |      788      |\n",
      "| serious on working metal sonic again...  |               |\n",
      "|            hehehe  ...Unless             |               |\n",
      "|         https://t.co/p3ZuWQbT2k          |               |\n",
      "+------------------------------------------+---------------+\n",
      "|       RT @MamaMiaNigga: 38 - Sonic       |      735      |\n",
      "|         https://t.co/UO8jMWHCR3          |               |\n",
      "+------------------------------------------+---------------+\n",
      "|   RT @Bl00Doodle: Shadow &amp; Sonic 😔   |      624      |\n",
      "|         https://t.co/O9mVVfWH0L          |               |\n",
      "+------------------------------------------+---------------+\n"
     ]
    }
   ],
   "source": [
    "# list that keeps track of popular tweets\n",
    "popular_tweets = []\n",
    "# get number of tweets\n",
    "number_tweets = len(results)\n",
    "# keep track of RT or retweets (repetition in tweets)\n",
    "repeat_tweets = []\n",
    "\n",
    "# populate list\n",
    "for tweet_index in range(number_tweets):\n",
    "    text = results[tweet_index]['text']\n",
    "    retweet_count = results[tweet_index]['retweet_count']\n",
    "    tweet_id = results[tweet_index]['id']\n",
    "    popular_tweets.append((text, retweet_count, tweet_id))\n",
    "\n",
    "# sort list based on retweet frequency\n",
    "sorted_results = sorted(popular_tweets, key=lambda item: item[1], reverse=True)\n",
    "\n",
    "# create pretty table\n",
    "table = PrettyTable(field_names=['text','retweet count'])\n",
    "count = 0\n",
    "for tweet_count_pair in sorted_results:\n",
    "    if count == 10:\n",
    "        break\n",
    "    if tweet_count_pair[0] in repeat_tweets:\n",
    "        continue\n",
    "    count += 1\n",
    "    repeat_tweets.append(tweet_count_pair[0])\n",
    "    table.add_row((fill(tweet_count_pair[0], width = 40), tweet_count_pair[1]))\n",
    "\n",
    "table.hrules = prettytable.ALL\n",
    "print(table)"
   ]
  },
  {
   "cell_type": "markdown",
   "metadata": {},
   "source": [
    "**(3) Find the most popular Tweet Entities in your collection of tweets**\n",
    "\n",
    "Please plot the top 10 most-frequent hashtags and top 10 most-mentioned users in your collection of tweets."
   ]
  },
  {
   "cell_type": "code",
   "execution_count": 21,
   "metadata": {},
   "outputs": [
    {
     "name": "stdout",
     "output_type": "stream",
     "text": [
      "+--------------------+-------+\n",
      "|      hashtag       | count |\n",
      "+--------------------+-------+\n",
      "|     SonicMovie     |   20  |\n",
      "|       sonic        |   18  |\n",
      "|  sonicthehedghog   |   17  |\n",
      "|  SonicTheHedgehog  |   10  |\n",
      "| SA2BOXARTchallenge |   6   |\n",
      "|        SA2         |   6   |\n",
      "|       Sonic        |   4   |\n",
      "|     SixFanarts     |   3   |\n",
      "| questionoftheweek  |   3   |\n",
      "|  sonicthehedgehog  |   2   |\n",
      "+--------------------+-------+\n",
      "+-----------------+-------+\n",
      "|       user      | count |\n",
      "+-----------------+-------+\n",
      "| dailyretrosonic |   24  |\n",
      "|    Reve_2Cha    |   16  |\n",
      "|  shaidersolutt  |   13  |\n",
      "|  sonic_hedgehog |   13  |\n",
      "| Sonic_Hedgeblog |   12  |\n",
      "|   LonelyGoomba  |   8   |\n",
      "| UltraPixelSonic |   6   |\n",
      "|    Bl00Doodle   |   5   |\n",
      "|   Spiral_Cris   |   4   |\n",
      "|  sonicparadise  |   4   |\n",
      "+-----------------+-------+\n"
     ]
    }
   ],
   "source": [
    "# dictionaries that keeps track of frequency of hashtags and user_mentions\n",
    "hashtag_collection = {}\n",
    "user_collection = {}\n",
    "\n",
    "# get number of tweets\n",
    "number_tweets = len(results)\n",
    "\n",
    "# takes a dictionary and a key. \n",
    "# If the key exits, increase the dictionary key's value by one. \n",
    "# Else, it creates a new entry\n",
    "def add_dict_count(dictionary, key):\n",
    "    if key in dictionary.keys():\n",
    "        dictionary[key] += 1\n",
    "    else:\n",
    "        dictionary[key] = 1\n",
    "\n",
    "# populate dictionaries\n",
    "for tweet_index in range(number_tweets):\n",
    "    for hashtag in results[tweet_index]['entities']['hashtags']:\n",
    "        add_dict_count(hashtag_collection, hashtag['text'])\n",
    "    for user in results[tweet_index]['entities']['user_mentions']:\n",
    "        add_dict_count(user_collection, user['screen_name'])\n",
    "    \n",
    "# sort dictionary based on frequency\n",
    "sorted_hashtags = {k: v for k, v in sorted(hashtag_collection.items(), key=lambda item: item[1], reverse=True)}\n",
    "sorted_users = {k: v for k, v in sorted(user_collection.items(), key=lambda item: item[1], reverse=True)}\n",
    "\n",
    "# create two pretty tables\n",
    "hashtag_table = PrettyTable(field_names=['hashtag','count'])\n",
    "user_table = PrettyTable(field_names=['user','count'])\n",
    "\n",
    "for index, hashtag_count_pair in enumerate(sorted_hashtags.items()):\n",
    "    if index == 10:\n",
    "        break\n",
    "    hashtag_table.add_row(hashtag_count_pair)\n",
    "\n",
    "for index, user_count_pair in enumerate(sorted_users.items()):\n",
    "    if index == 10:\n",
    "        break\n",
    "    user_table.add_row(user_count_pair)\n",
    "\n",
    "print(hashtag_table)\n",
    "print(user_table)\n",
    "    "
   ]
  },
  {
   "cell_type": "markdown",
   "metadata": {},
   "source": [
    "Plot a histogram of the number of user mentions in the list using the following bins."
   ]
  },
  {
   "cell_type": "code",
   "execution_count": 22,
   "metadata": {},
   "outputs": [
    {
     "name": "stdout",
     "output_type": "stream",
     "text": [
      "[24, 16, 13, 13, 12, 8, 6, 5, 4, 4, 4, 3, 3, 3, 3, 3, 3, 3, 3, 3, 2, 2, 2, 2, 2, 2, 2, 2, 2, 2, 2, 2, 2, 2, 2, 2, 1, 1, 1, 1, 1, 1, 1, 1, 1, 1, 1, 1, 1, 1, 1, 1, 1, 1, 1, 1, 1, 1, 1, 1, 1, 1, 1, 1, 1, 1, 1, 1, 1, 1, 1, 1, 1, 1, 1, 1, 1, 1, 1, 1, 1, 1, 1, 1, 1, 1, 1, 1, 1, 1, 1, 1, 1, 1, 1, 1, 1, 1, 1, 1, 1, 1, 1, 1, 1, 1, 1, 1, 1, 1, 1, 1, 1, 1, 1, 1, 1, 1, 1, 1, 1, 1, 1, 1, 1, 1, 1, 1, 1, 1, 1, 1, 1, 1, 1, 1, 1, 1, 1, 1, 1, 1, 1, 1, 1, 1, 1, 1, 1, 1, 1, 1, 1, 1, 1, 1, 1, 1, 1, 1, 1, 1, 1, 1, 1, 1, 1]\n"
     ]
    },
    {
     "data": {
      "image/png": "[encoded data removed]",
      "text/plain": [
       "<Figure size 432x288 with 1 Axes>"
      ]
     },
     "metadata": {
      "needs_background": "light"
     },
     "output_type": "display_data"
    }
   ],
   "source": [
    "bins=[0, 10, 20, 30, 40, 50, 100]\n",
    "number_of_mentions = [value for value in sorted_users.values()]\n",
    "print(number_of_mentions)\n",
    "plt.hist(number_of_mentions, bins=bins)\n",
    "plt.title(\"Number of user mentions vs Frequency\")\n",
    "plt.xlabel('Number of mentions')\n",
    "plt.ylabel('Frequency')\n",
    "plt.show()"
   ]
  },
  {
   "cell_type": "markdown",
   "metadata": {},
   "source": [
    "\n",
    " ** (optional task for fun) Getting \"All\" friends (followees) and \"All\" followers of a popular user in the tweets**"
   ]
  },
  {
   "cell_type": "markdown",
   "metadata": {},
   "source": [
    "* choose a popular twitter user who has many followers in your collection of tweets.\n",
    "* Get the list of all friends and all followers of the twitter user.\n",
    "* Plot 20 out of the followers, plot their ID numbers and screen names in a table.\n",
    "* Plot 20 out of the friends (if the user has more than 20 friends), plot their ID numbers and screen names in a table."
   ]
  },
  {
   "cell_type": "code",
   "execution_count": 35,
   "metadata": {},
   "outputs": [],
   "source": [
    "# Your code starts here\n",
    "#   Please add comments or text cells in between to explain the general idea of each block of the code.\n",
    "#   Please feel free to add more cells below this cell if necessary\n",
    "\n",
    "\n",
    "\n",
    "\n",
    "\n"
   ]
  },
  {
   "cell_type": "markdown",
   "metadata": {},
   "source": [
    "*-----------------\n",
    "# Done\n",
    "\n",
    "All set! \n",
    "\n",
    "** What do you need to submit?**\n",
    "\n",
    "* **Notebook File**: Save this Jupyter notebook, and find the notebook file in your folder (for example, \"filename.ipynb\"). This is the file you need to submit. Please make sure all the plotted tables and figures are in the notebook.\n",
    "\n",
    "** How to submit: **\n",
    "\n",
    "        Please submit through Canvas, in the Assignment \"HW1\".\n",
    "        "
   ]
  }
 ],
 "metadata": {
  "anaconda-cloud": {},
  "kernelspec": {
   "display_name": "Python 3",
   "language": "python",
   "name": "python3"
  },
  "language_info": {
   "codemirror_mode": {
    "name": "ipython",
    "version": 3
   },
   "file_extension": ".py",
   "mimetype": "text/x-python",
   "name": "python",
   "nbconvert_exporter": "python",
   "pygments_lexer": "ipython3",
   "version": "3.8.2"
  }
 },
 "nbformat": 4,
 "nbformat_minor": 1
}
